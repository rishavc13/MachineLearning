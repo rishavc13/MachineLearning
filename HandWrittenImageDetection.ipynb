{
 "cells": [
  {
   "cell_type": "code",
   "execution_count": 3,
   "metadata": {},
   "outputs": [
    {
     "name": "stdout",
     "output_type": "stream",
     "text": [
      "[4]\n"
     ]
    },
    {
     "data": {
      "text/plain": [
       "<matplotlib.image.AxesImage at 0x7fc554e034e0>"
      ]
     },
     "execution_count": 3,
     "metadata": {},
     "output_type": "execute_result"
    },
    {
     "data": {
      "image/png": "[encoded data removed]",
      "text/plain": [
       "<Figure size 432x288 with 1 Axes>"
      ]
     },
     "metadata": {},
     "output_type": "display_data"
    }
   ],
   "source": [
    "# importing required libraries\n",
    "from sklearn.datasets import load_digits\n",
    "import matplotlib.pyplot as plt\n",
    "import numpy as np\n",
    "\n",
    "# accessing dataset\n",
    "digit=load_digits()\n",
    "\n",
    "# collection of training data\n",
    "train_data=np.delete(digit.data,-1,axis=0)\n",
    "train_target=np.delete(digit.target,-1)\n",
    "\n",
    "test_data=digit.data[-1]\n",
    "test_taregt=digit.target[-1]\n",
    "\n",
    "# now calling SVM classifier----  SVC\n",
    "# Note : if you want touse regression then call SVR\n",
    "from sklearn.svm import SVC\n",
    "\n",
    "clf=SVC()\n",
    "\n",
    "# apply training data to SVC\n",
    "trained=clf.fit(train_data,train_target)\n",
    "\n",
    "# predicting data sets values\n",
    "out=trained.predict(digit.data[-6].reshape(1,64))\n",
    "\n",
    "print(out)\n",
    "\n",
    "# verifying the output with the actual image\n",
    "plt.imshow(digit.images[-6])"
   ]
  },
  {
   "cell_type": "code",
   "execution_count": null,
   "metadata": {},
   "outputs": [],
   "source": []
  }
 ],
 "metadata": {
  "kernelspec": {
   "display_name": "Python 3",
   "language": "python",
   "name": "python3"
  },
  "language_info": {
   "codemirror_mode": {
    "name": "ipython",
    "version": 3
   },
   "file_extension": ".py",
   "mimetype": "text/x-python",
   "name": "python",
   "nbconvert_exporter": "python",
   "pygments_lexer": "ipython3",
   "version": "3.5.2"
  }
 },
 "nbformat": 4,
 "nbformat_minor": 2
}
