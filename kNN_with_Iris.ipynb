{
 "cells": [
  {
   "cell_type": "code",
   "execution_count": 4,
   "metadata": {},
   "outputs": [
    {
     "name": "stdout",
     "output_type": "stream",
     "text": [
      "[0 0 1 2 1 1 1 1 0 1 2 2 1 0 0 1 0 0 2 1 2 0 2 0 0 2 0 2 1 0 1 2 2 2 2 2 1\n",
      " 0 2 2 0 0 0 1 0 0 0 2 2 0 1 0 2 2 2 0 1 1 1 2 0 1 0 2 1 0 0 0 0 1 2 1 0 2\n",
      " 0 0 1 2 2 1 1 1 1 0 2 2 2 1 2 0 0 1 2 0 2 2 0 0 2 1 2 0 2 0 2 2 2 0 1 0 1\n",
      " 1 2 0 2 2 1 1 1 1]\n",
      "0.9666666666666667\n"
     ]
    }
   ],
   "source": [
    "# importing required libraries\n",
    "from sklearn.datasets import load_iris\n",
    "from sklearn.neighbors import KNeighborsClassifier\n",
    "from sklearn.model_selection import train_test_split\n",
    "from sklearn.metrics import accuracy_score\n",
    "import numpy as np\n",
    "\n",
    "x=[0,50,100]\n",
    "\n",
    "iris=load_iris()\n",
    "\n",
    "train_data,test_data,train_target,test_target=train_test_split(iris.data,iris.target,test_size=0.8)\n",
    "\n",
    "# calling algorithm and setting the value of k=3\n",
    "knn=KNeighborsClassifier(n_neighbors=3)\n",
    "\n",
    "# training model using training dataset\n",
    "trained=knn.fit(train_data,train_target)\n",
    "\n",
    "# predicting output\n",
    "prediction=trained.predict(test_data)\n",
    "\n",
    "# printing output\n",
    "print(prediction)\n",
    "\n",
    "# now calculate accuracy\n",
    "print(accuracy_score(test_target,prediction))"
   ]
  },
  {
   "cell_type": "code",
   "execution_count": null,
   "metadata": {},
   "outputs": [],
   "source": []
  }
 ],
 "metadata": {
  "kernelspec": {
   "display_name": "Python 3",
   "language": "python",
   "name": "python3"
  },
  "language_info": {
   "codemirror_mode": {
    "name": "ipython",
    "version": 3
   },
   "file_extension": ".py",
   "mimetype": "text/x-python",
   "name": "python",
   "nbconvert_exporter": "python",
   "pygments_lexer": "ipython3",
   "version": "3.5.2"
  }
 },
 "nbformat": 4,
 "nbformat_minor": 2
}
